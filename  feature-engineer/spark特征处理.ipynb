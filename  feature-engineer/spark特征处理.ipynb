{
 "cells": [
  {
   "cell_type": "code",
   "execution_count": 23,
   "metadata": {
    "ExecuteTime": {
     "end_time": "2022-02-01T16:43:12.868863Z",
     "start_time": "2022-02-01T16:43:12.865413Z"
    }
   },
   "outputs": [
    {
     "data": {
      "text/plain": [
       "'2.4.4'"
      ]
     },
     "execution_count": 23,
     "metadata": {},
     "output_type": "execute_result"
    }
   ],
   "source": [
    "pyspark.__version__"
   ]
  },
  {
   "cell_type": "code",
   "execution_count": 1,
   "metadata": {
    "ExecuteTime": {
     "end_time": "2022-02-01T16:45:02.383976Z",
     "start_time": "2022-02-01T16:45:02.379164Z"
    }
   },
   "outputs": [],
   "source": [
    "import findspark\n",
    "findspark.init()"
   ]
  },
  {
   "cell_type": "code",
   "execution_count": 2,
   "metadata": {
    "ExecuteTime": {
     "end_time": "2022-02-01T16:45:02.780853Z",
     "start_time": "2022-02-01T16:45:02.589527Z"
    }
   },
   "outputs": [],
   "source": [
    "import pyspark\n",
    "from pyspark import SparkContext\n",
    "from pyspark.sql import SparkSession\n",
    "from pyspark.sql.functions import *"
   ]
  },
  {
   "cell_type": "code",
   "execution_count": 3,
   "metadata": {
    "ExecuteTime": {
     "end_time": "2022-02-01T16:45:05.957112Z",
     "start_time": "2022-02-01T16:45:02.783317Z"
    }
   },
   "outputs": [],
   "source": [
    "spark = SparkSession \\\n",
    "    .builder \\\n",
    "    .appName(\"feat-eng\") \\\n",
    "    .getOrCreate()"
   ]
  },
  {
   "cell_type": "code",
   "execution_count": 4,
   "metadata": {
    "ExecuteTime": {
     "end_time": "2022-02-01T16:45:10.743037Z",
     "start_time": "2022-02-01T16:45:05.959503Z"
    }
   },
   "outputs": [
    {
     "name": "stdout",
     "output_type": "stream",
     "text": [
      "root\n",
      " |-- anime_id: integer (nullable = true)\n",
      " |-- name: string (nullable = true)\n",
      " |-- genre: string (nullable = true)\n",
      " |-- type: string (nullable = true)\n",
      " |-- episodes: string (nullable = true)\n",
      " |-- rating: double (nullable = true)\n",
      " |-- members: integer (nullable = true)\n",
      "\n"
     ]
    }
   ],
   "source": [
    "anime_df = spark.read.csv('../dataset/anime.csv', header=True, inferSchema=True)\n",
    "anime_df.printSchema()"
   ]
  },
  {
   "cell_type": "code",
   "execution_count": 5,
   "metadata": {
    "ExecuteTime": {
     "end_time": "2022-02-01T16:45:10.893285Z",
     "start_time": "2022-02-01T16:45:10.745727Z"
    }
   },
   "outputs": [],
   "source": [
    "from pyspark.ml.feature import StringIndexer\n"
   ]
  },
  {
   "cell_type": "code",
   "execution_count": 6,
   "metadata": {
    "ExecuteTime": {
     "end_time": "2022-02-01T16:45:10.964724Z",
     "start_time": "2022-02-01T16:45:10.894921Z"
    }
   },
   "outputs": [],
   "source": [
    "genre_df = anime_df \\\n",
    "    .withColumn('genre_item', explode(split(col('genre'), '[,]'))) \\\n",
    "    .withColumn('genre_item', trim(col('genre_item')))"
   ]
  },
  {
   "cell_type": "code",
   "execution_count": 7,
   "metadata": {
    "ExecuteTime": {
     "end_time": "2022-02-01T16:45:11.210756Z",
     "start_time": "2022-02-01T16:45:10.967930Z"
    }
   },
   "outputs": [
    {
     "name": "stdout",
     "output_type": "stream",
     "text": [
      "+--------+------------+\n",
      "|anime_id|  genre_item|\n",
      "+--------+------------+\n",
      "|   32281|       Drama|\n",
      "|   32281|     Romance|\n",
      "|   32281|      School|\n",
      "|   32281|Supernatural|\n",
      "|    5114|      Action|\n",
      "|    5114|   Adventure|\n",
      "|    5114|       Drama|\n",
      "|    5114|     Fantasy|\n",
      "|    5114|       Magic|\n",
      "|    5114|    Military|\n",
      "+--------+------------+\n",
      "only showing top 10 rows\n",
      "\n"
     ]
    }
   ],
   "source": [
    "genre_df.select(['anime_id', 'genre_item']).show(10)\n"
   ]
  },
  {
   "cell_type": "code",
   "execution_count": 8,
   "metadata": {
    "ExecuteTime": {
     "end_time": "2022-02-01T16:45:12.154939Z",
     "start_time": "2022-02-01T16:45:11.213430Z"
    }
   },
   "outputs": [],
   "source": [
    "string_indexer = StringIndexer(inputCol='genre_item', outputCol='genre_index')\n",
    "genre_indexed_df = string_indexer \\\n",
    "    .fit(genre_df) \\\n",
    "    .transform(genre_df) \\\n",
    "    .withColumn('genre_index', col('genre_index').cast('int'))"
   ]
  },
  {
   "cell_type": "code",
   "execution_count": 9,
   "metadata": {
    "ExecuteTime": {
     "end_time": "2022-02-01T16:45:12.348646Z",
     "start_time": "2022-02-01T16:45:12.156529Z"
    }
   },
   "outputs": [
    {
     "name": "stdout",
     "output_type": "stream",
     "text": [
      "+--------+--------------------+--------------------+-----+--------+------+-------+------------+-----------+\n",
      "|anime_id|                name|               genre| type|episodes|rating|members|  genre_item|genre_index|\n",
      "+--------+--------------------+--------------------+-----+--------+------+-------+------------+-----------+\n",
      "|   32281|      Kimi no Na wa.|Drama, Romance, S...|Movie|       1|  9.37| 200630|       Drama|          5|\n",
      "|   32281|      Kimi no Na wa.|Drama, Romance, S...|Movie|       1|  9.37| 200630|     Romance|          8|\n",
      "|   32281|      Kimi no Na wa.|Drama, Romance, S...|Movie|       1|  9.37| 200630|      School|          9|\n",
      "|   32281|      Kimi no Na wa.|Drama, Romance, S...|Movie|       1|  9.37| 200630|Supernatural|         12|\n",
      "|    5114|Fullmetal Alchemi...|Action, Adventure...|   TV|      64|  9.26| 793665|      Action|          1|\n",
      "|    5114|Fullmetal Alchemi...|Action, Adventure...|   TV|      64|  9.26| 793665|   Adventure|          2|\n",
      "|    5114|Fullmetal Alchemi...|Action, Adventure...|   TV|      64|  9.26| 793665|       Drama|          5|\n",
      "|    5114|Fullmetal Alchemi...|Action, Adventure...|   TV|      64|  9.26| 793665|     Fantasy|          3|\n",
      "|    5114|Fullmetal Alchemi...|Action, Adventure...|   TV|      64|  9.26| 793665|       Magic|         16|\n",
      "|    5114|Fullmetal Alchemi...|Action, Adventure...|   TV|      64|  9.26| 793665|    Military|         23|\n",
      "|    5114|Fullmetal Alchemi...|Action, Adventure...|   TV|      64|  9.26| 793665|     Shounen|          6|\n",
      "|   28977|            Gintama°|Action, Comedy, H...|   TV|      51|  9.25| 114262|      Action|          1|\n",
      "|   28977|            Gintama°|Action, Comedy, H...|   TV|      51|  9.25| 114262|      Comedy|          0|\n",
      "|   28977|            Gintama°|Action, Comedy, H...|   TV|      51|  9.25| 114262|  Historical|         15|\n",
      "|   28977|            Gintama°|Action, Comedy, H...|   TV|      51|  9.25| 114262|      Parody|         24|\n",
      "|   28977|            Gintama°|Action, Comedy, H...|   TV|      51|  9.25| 114262|     Samurai|         34|\n",
      "|   28977|            Gintama°|Action, Comedy, H...|   TV|      51|  9.25| 114262|      Sci-Fi|          4|\n",
      "|   28977|            Gintama°|Action, Comedy, H...|   TV|      51|  9.25| 114262|     Shounen|          6|\n",
      "|    9253|         Steins;Gate|    Sci-Fi, Thriller|   TV|      24|  9.17| 673572|      Sci-Fi|          4|\n",
      "|    9253|         Steins;Gate|    Sci-Fi, Thriller|   TV|      24|  9.17| 673572|    Thriller|         36|\n",
      "+--------+--------------------+--------------------+-----+--------+------+-------+------------+-----------+\n",
      "only showing top 20 rows\n",
      "\n"
     ]
    }
   ],
   "source": [
    "genre_indexed_df.show()"
   ]
  },
  {
   "cell_type": "code",
   "execution_count": 10,
   "metadata": {
    "ExecuteTime": {
     "end_time": "2022-02-01T16:45:12.391481Z",
     "start_time": "2022-02-01T16:45:12.351456Z"
    }
   },
   "outputs": [],
   "source": [
    "pre_multihot_df = genre_indexed_df \\\n",
    "    .groupby('anime_id') \\\n",
    "    .agg(collect_list('genre_index').alias('genre_indexes'))"
   ]
  },
  {
   "cell_type": "code",
   "execution_count": 11,
   "metadata": {
    "ExecuteTime": {
     "end_time": "2022-02-01T16:45:13.089845Z",
     "start_time": "2022-02-01T16:45:12.393035Z"
    }
   },
   "outputs": [
    {
     "name": "stdout",
     "output_type": "stream",
     "text": [
      "+--------+--------------------+\n",
      "|anime_id|       genre_indexes|\n",
      "+--------+--------------------+\n",
      "|     148|          [5, 8, 10]|\n",
      "|     463| [1, 2, 0, 3, 6, 22]|\n",
      "|     471|[0, 5, 27, 8, 9, 10]|\n",
      "|     496|    [2, 5, 3, 15, 6]|\n",
      "|     833|    [1, 0, 13, 4, 6]|\n",
      "|    1088|[1, 13, 23, 14, 8...|\n",
      "|    1238|        [2, 0, 3, 6]|\n",
      "|    1342|          [1, 5, 26]|\n",
      "|    1580|      [2, 28, 6, 12]|\n",
      "|    1591|           [0, 8, 9]|\n",
      "+--------+--------------------+\n",
      "only showing top 10 rows\n",
      "\n"
     ]
    }
   ],
   "source": [
    "pre_multihot_df.show(10)\n"
   ]
  },
  {
   "cell_type": "code",
   "execution_count": 12,
   "metadata": {
    "ExecuteTime": {
     "end_time": "2022-02-01T16:45:13.375058Z",
     "start_time": "2022-02-01T16:45:13.091837Z"
    }
   },
   "outputs": [],
   "source": [
    "max_genre_index = genre_indexed_df \\\n",
    "    .agg(max(col('genre_index'))).head()['max(genre_index)']"
   ]
  },
  {
   "cell_type": "code",
   "execution_count": 13,
   "metadata": {
    "ExecuteTime": {
     "end_time": "2022-02-01T16:45:13.386839Z",
     "start_time": "2022-02-01T16:45:13.376539Z"
    }
   },
   "outputs": [
    {
     "data": {
      "text/plain": [
       "42"
      ]
     },
     "execution_count": 13,
     "metadata": {},
     "output_type": "execute_result"
    }
   ],
   "source": [
    "max_genre_index\n"
   ]
  },
  {
   "cell_type": "code",
   "execution_count": 14,
   "metadata": {
    "ExecuteTime": {
     "end_time": "2022-02-01T16:45:13.427917Z",
     "start_time": "2022-02-01T16:45:13.388467Z"
    }
   },
   "outputs": [],
   "source": [
    "import numpy as np\n",
    "\n",
    "@udf(returnType='array<int>')\n",
    "def multihot_list(l, max_index):\n",
    "    fill = np.zeros(max_index + 1, dtype=np.int32)\n",
    "    for i in l:\n",
    "        fill[i] = 1\n",
    "    return fill.tolist()"
   ]
  },
  {
   "cell_type": "code",
   "execution_count": 15,
   "metadata": {
    "ExecuteTime": {
     "end_time": "2022-02-01T16:45:13.505586Z",
     "start_time": "2022-02-01T16:45:13.429970Z"
    }
   },
   "outputs": [],
   "source": [
    "multihot_df = pre_multihot_df \\\n",
    "    .withColumn(\n",
    "        'genre_multihot',\n",
    "        multihot_list(col('genre_indexes'), lit(max_genre_index))\n",
    "    )\n"
   ]
  },
  {
   "cell_type": "code",
   "execution_count": 16,
   "metadata": {
    "ExecuteTime": {
     "end_time": "2022-02-01T16:45:13.513456Z",
     "start_time": "2022-02-01T16:45:13.508937Z"
    }
   },
   "outputs": [
    {
     "name": "stdout",
     "output_type": "stream",
     "text": [
      "root\n",
      " |-- anime_id: integer (nullable = true)\n",
      " |-- genre_indexes: array (nullable = true)\n",
      " |    |-- element: integer (containsNull = true)\n",
      " |-- genre_multihot: array (nullable = true)\n",
      " |    |-- element: integer (containsNull = true)\n",
      "\n"
     ]
    }
   ],
   "source": [
    "multihot_df.printSchema()\n"
   ]
  },
  {
   "cell_type": "code",
   "execution_count": null,
   "metadata": {
    "ExecuteTime": {
     "end_time": "2022-02-01T16:39:10.993215Z",
     "start_time": "2022-02-01T16:39:10.990822Z"
    }
   },
   "outputs": [],
   "source": []
  },
  {
   "cell_type": "code",
   "execution_count": 17,
   "metadata": {
    "ExecuteTime": {
     "end_time": "2022-02-01T16:45:14.459952Z",
     "start_time": "2022-02-01T16:45:13.517584Z"
    }
   },
   "outputs": [
    {
     "name": "stdout",
     "output_type": "stream",
     "text": [
      "+--------+--------------------+--------------------+\n",
      "|anime_id|       genre_indexes|      genre_multihot|\n",
      "+--------+--------------------+--------------------+\n",
      "|     148|          [5, 8, 10]|[0, 0, 0, 0, 0, 1...|\n",
      "|     463| [1, 2, 0, 3, 6, 22]|[1, 1, 1, 1, 0, 0...|\n",
      "|     471|[0, 5, 27, 8, 9, 10]|[1, 0, 0, 0, 0, 1...|\n",
      "|     496|    [2, 5, 3, 15, 6]|[0, 0, 1, 1, 0, 1...|\n",
      "|     833|    [1, 0, 13, 4, 6]|[1, 1, 0, 0, 1, 0...|\n",
      "|    1088|[1, 13, 23, 14, 8...|[0, 1, 0, 0, 1, 0...|\n",
      "|    1238|        [2, 0, 3, 6]|[1, 0, 1, 1, 0, 0...|\n",
      "|    1342|          [1, 5, 26]|[0, 1, 0, 0, 0, 1...|\n",
      "|    1580|      [2, 28, 6, 12]|[0, 0, 1, 0, 0, 0...|\n",
      "|    1591|           [0, 8, 9]|[1, 0, 0, 0, 0, 0...|\n",
      "+--------+--------------------+--------------------+\n",
      "only showing top 10 rows\n",
      "\n"
     ]
    }
   ],
   "source": [
    "multihot_df.show(10)\n"
   ]
  },
  {
   "cell_type": "markdown",
   "metadata": {},
   "source": [
    "### Average Rating Min-Max Scale\n"
   ]
  },
  {
   "cell_type": "code",
   "execution_count": 18,
   "metadata": {
    "ExecuteTime": {
     "end_time": "2022-02-01T16:47:02.874807Z",
     "start_time": "2022-02-01T16:47:00.982373Z"
    }
   },
   "outputs": [],
   "source": [
    "rating_df = spark.read.csv('../dataset/rating.csv', header=True, inferSchema=True) \\\n",
    "    .filter(col('rating') > 0)"
   ]
  },
  {
   "cell_type": "code",
   "execution_count": 19,
   "metadata": {
    "ExecuteTime": {
     "end_time": "2022-02-01T16:47:11.491472Z",
     "start_time": "2022-02-01T16:47:11.472254Z"
    }
   },
   "outputs": [],
   "source": [
    "ave_rating_df = rating_df \\\n",
    "    .groupby('anime_id') \\\n",
    "    .agg(mean('rating').alias('ave_rating'))"
   ]
  },
  {
   "cell_type": "code",
   "execution_count": 20,
   "metadata": {
    "ExecuteTime": {
     "end_time": "2022-02-01T16:47:19.303971Z",
     "start_time": "2022-02-01T16:47:17.288221Z"
    }
   },
   "outputs": [
    {
     "name": "stdout",
     "output_type": "stream",
     "text": [
      "+--------+-----------------+\n",
      "|anime_id|       ave_rating|\n",
      "+--------+-----------------+\n",
      "|   24171|7.386666666666667|\n",
      "|    9465|8.098352214212152|\n",
      "|   17679|7.293103448275862|\n",
      "|    1829|7.341757827235005|\n",
      "|    8086|7.939071817474721|\n",
      "|   17389|8.601839684625492|\n",
      "|   22097| 8.13076923076923|\n",
      "|   30654|8.687342833193629|\n",
      "|    5300|8.694010416666666|\n",
      "|    6336|8.497902097902099|\n",
      "+--------+-----------------+\n",
      "only showing top 10 rows\n",
      "\n"
     ]
    }
   ],
   "source": [
    "ave_rating_df.show(10)\n"
   ]
  },
  {
   "cell_type": "code",
   "execution_count": 21,
   "metadata": {
    "ExecuteTime": {
     "end_time": "2022-02-01T16:47:32.005130Z",
     "start_time": "2022-02-01T16:47:32.002419Z"
    }
   },
   "outputs": [],
   "source": [
    "from pyspark.ml.feature import MinMaxScaler, VectorAssembler\n",
    "from pyspark.ml import Pipeline"
   ]
  },
  {
   "cell_type": "code",
   "execution_count": 22,
   "metadata": {
    "ExecuteTime": {
     "end_time": "2022-02-01T16:47:39.253730Z",
     "start_time": "2022-02-01T16:47:36.442094Z"
    }
   },
   "outputs": [],
   "source": [
    "vec_assembler = VectorAssembler(inputCols=['ave_rating'], outputCol='ave_rating_vec')\n",
    "ave_rating_scaler = MinMaxScaler(inputCol='ave_rating_vec', outputCol='ave_rating_scaled')\n",
    "pipeline = Pipeline(stages=[vec_assembler, ave_rating_scaler])\n",
    "\n",
    "rating_scaled_df = pipeline \\\n",
    "    .fit(ave_rating_df) \\\n",
    "    .transform(ave_rating_df)"
   ]
  },
  {
   "cell_type": "code",
   "execution_count": 23,
   "metadata": {
    "ExecuteTime": {
     "end_time": "2022-02-01T16:47:59.920094Z",
     "start_time": "2022-02-01T16:47:59.916848Z"
    }
   },
   "outputs": [
    {
     "name": "stdout",
     "output_type": "stream",
     "text": [
      "root\n",
      " |-- anime_id: integer (nullable = true)\n",
      " |-- ave_rating: double (nullable = true)\n",
      " |-- ave_rating_vec: vector (nullable = true)\n",
      " |-- ave_rating_scaled: vector (nullable = true)\n",
      "\n"
     ]
    }
   ],
   "source": [
    "rating_scaled_df.printSchema()\n"
   ]
  },
  {
   "cell_type": "code",
   "execution_count": 24,
   "metadata": {
    "ExecuteTime": {
     "end_time": "2022-02-01T16:48:06.959270Z",
     "start_time": "2022-02-01T16:48:05.031996Z"
    }
   },
   "outputs": [
    {
     "name": "stdout",
     "output_type": "stream",
     "text": [
      "+--------+-----------------+-------------------+--------------------+\n",
      "|anime_id|       ave_rating|     ave_rating_vec|   ave_rating_scaled|\n",
      "+--------+-----------------+-------------------+--------------------+\n",
      "|   24171|7.386666666666667|[7.386666666666667]|[0.7096296296296296]|\n",
      "|    9465|8.098352214212152|[8.098352214212152]|[0.7887058015791281]|\n",
      "|   17679|7.293103448275862|[7.293103448275862]|[0.6992337164750958]|\n",
      "|    1829|7.341757827235005|[7.341757827235005]|[0.7046397585816673]|\n",
      "|    8086|7.939071817474721|[7.939071817474721]|[0.7710079797194135]|\n",
      "|   17389|8.601839684625492|[8.601839684625492]| [0.844648853847277]|\n",
      "|   22097| 8.13076923076923| [8.13076923076923]|[0.7923076923076923]|\n",
      "|   30654|8.687342833193629|[8.687342833193629]| [0.854149203688181]|\n",
      "|    5300|8.694010416666666|[8.694010416666666]|[0.8548900462962963]|\n",
      "|    6336|8.497902097902099|[8.497902097902099]|[0.8331002331002332]|\n",
      "+--------+-----------------+-------------------+--------------------+\n",
      "only showing top 10 rows\n",
      "\n"
     ]
    }
   ],
   "source": [
    "rating_scaled_df.show(10)\n"
   ]
  },
  {
   "cell_type": "code",
   "execution_count": 25,
   "metadata": {
    "ExecuteTime": {
     "end_time": "2022-02-01T16:48:20.394773Z",
     "start_time": "2022-02-01T16:48:20.375852Z"
    }
   },
   "outputs": [],
   "source": [
    "@udf(returnType='float')\n",
    "def unwrap_list(rating):\n",
    "    return rating.toArray().tolist()[0]"
   ]
  },
  {
   "cell_type": "code",
   "execution_count": 26,
   "metadata": {
    "ExecuteTime": {
     "end_time": "2022-02-01T16:48:25.237677Z",
     "start_time": "2022-02-01T16:48:25.221631Z"
    }
   },
   "outputs": [],
   "source": [
    "rating_scaled_df = rating_scaled_df \\\n",
    "    .withColumn('ave_rating_minmax', unwrap_list(col('ave_rating_scaled')))"
   ]
  },
  {
   "cell_type": "code",
   "execution_count": 27,
   "metadata": {
    "ExecuteTime": {
     "end_time": "2022-02-01T16:48:38.360160Z",
     "start_time": "2022-02-01T16:48:36.307415Z"
    }
   },
   "outputs": [
    {
     "name": "stdout",
     "output_type": "stream",
     "text": [
      "+--------+-----------------+-------------------+--------------------+-----------------+\n",
      "|anime_id|       ave_rating|     ave_rating_vec|   ave_rating_scaled|ave_rating_minmax|\n",
      "+--------+-----------------+-------------------+--------------------+-----------------+\n",
      "|   24171|7.386666666666667|[7.386666666666667]|[0.7096296296296296]|       0.70962965|\n",
      "|    9465|8.098352214212152|[8.098352214212152]|[0.7887058015791281]|        0.7887058|\n",
      "|   17679|7.293103448275862|[7.293103448275862]|[0.6992337164750958]|        0.6992337|\n",
      "|    1829|7.341757827235005|[7.341757827235005]|[0.7046397585816673]|       0.70463973|\n",
      "|    8086|7.939071817474721|[7.939071817474721]|[0.7710079797194135]|       0.77100796|\n",
      "|   17389|8.601839684625492|[8.601839684625492]| [0.844648853847277]|       0.84464884|\n",
      "|   22097| 8.13076923076923| [8.13076923076923]|[0.7923076923076923]|        0.7923077|\n",
      "|   30654|8.687342833193629|[8.687342833193629]| [0.854149203688181]|        0.8541492|\n",
      "|    5300|8.694010416666666|[8.694010416666666]|[0.8548900462962963]|       0.85489005|\n",
      "|    6336|8.497902097902099|[8.497902097902099]|[0.8331002331002332]|       0.83310026|\n",
      "+--------+-----------------+-------------------+--------------------+-----------------+\n",
      "only showing top 10 rows\n",
      "\n"
     ]
    }
   ],
   "source": [
    "rating_scaled_df.show(10)\n"
   ]
  },
  {
   "cell_type": "code",
   "execution_count": 28,
   "metadata": {
    "ExecuteTime": {
     "end_time": "2022-02-01T16:50:19.679649Z",
     "start_time": "2022-02-01T16:50:19.670780Z"
    }
   },
   "outputs": [],
   "source": [
    "rating_result_df = rating_scaled_df \\\n",
    "    .select(['anime_id', 'ave_rating_minmax'])"
   ]
  },
  {
   "cell_type": "code",
   "execution_count": 29,
   "metadata": {
    "ExecuteTime": {
     "end_time": "2022-02-01T16:50:27.039470Z",
     "start_time": "2022-02-01T16:50:27.020623Z"
    }
   },
   "outputs": [],
   "source": [
    "result_df = anime_df \\\n",
    "    .join(rating_result_df, on='anime_id')"
   ]
  },
  {
   "cell_type": "code",
   "execution_count": 30,
   "metadata": {
    "ExecuteTime": {
     "end_time": "2022-02-01T16:50:43.313270Z",
     "start_time": "2022-02-01T16:50:43.310145Z"
    }
   },
   "outputs": [
    {
     "name": "stdout",
     "output_type": "stream",
     "text": [
      "root\n",
      " |-- anime_id: integer (nullable = true)\n",
      " |-- name: string (nullable = true)\n",
      " |-- genre: string (nullable = true)\n",
      " |-- type: string (nullable = true)\n",
      " |-- episodes: string (nullable = true)\n",
      " |-- rating: double (nullable = true)\n",
      " |-- members: integer (nullable = true)\n",
      " |-- ave_rating_minmax: float (nullable = true)\n",
      "\n"
     ]
    }
   ],
   "source": [
    "result_df.printSchema()\n"
   ]
  },
  {
   "cell_type": "code",
   "execution_count": 31,
   "metadata": {
    "ExecuteTime": {
     "end_time": "2022-02-01T16:50:55.190832Z",
     "start_time": "2022-02-01T16:50:52.699857Z"
    }
   },
   "outputs": [
    {
     "name": "stdout",
     "output_type": "stream",
     "text": [
      "+--------+--------------------+--------------------+-----+--------+------+-------+-----------------+\n",
      "|anime_id|                name|               genre| type|episodes|rating|members|ave_rating_minmax|\n",
      "+--------+--------------------+--------------------+-----+--------+------+-------+-----------------+\n",
      "|   24171|     Mushibugyou OVA|Action, Fantasy, ...|  OVA|       3|   7.2|   3636|       0.70962965|\n",
      "|    9465|Break Blade 4: Sa...|Action, Fantasy, ...|Movie|       1|  7.99|  41598|        0.7887058|\n",
      "|   17679|               Gambo|  Demons, Historical|Movie|       1|  6.78|   4232|        0.6992337|\n",
      "|    1829|          Gedo Senki|Adventure, Fantas...|Movie|       1|  7.18|  59243|       0.70463973|\n",
      "|    8086|Densetsu no Yuush...|Action, Adventure...|   TV|      24|  7.83| 130689|       0.77100796|\n",
      "|   17389|  Kingdom 2nd Season|Action, Historica...|   TV|      39|  8.57|  31234|       0.84464884|\n",
      "|   22097|Magi: Sinbad no B...|Action, Adventure...|  OVA|       5|  8.06|  52351|        0.7923077|\n",
      "|   30654|Ansatsu Kyoushits...|Action, Comedy, S...|   TV|      25|  8.68| 176475|        0.8541492|\n",
      "|    5300|Zoku Natsume Yuuj...|Drama, Fantasy, S...|   TV|      13|  8.64| 114173|       0.85489005|\n",
      "|    6336|Mobile Suit Gunda...|Action, Drama, Me...|  OVA|       7|   8.4|  42076|       0.83310026|\n",
      "+--------+--------------------+--------------------+-----+--------+------+-------+-----------------+\n",
      "only showing top 10 rows\n",
      "\n"
     ]
    }
   ],
   "source": [
    "result_df.show(10)\n"
   ]
  },
  {
   "cell_type": "code",
   "execution_count": null,
   "metadata": {},
   "outputs": [],
   "source": [
    "result_df \\\n",
    "    .write.format('csv') \\\n",
    "    .option('header', true) \\\n",
    "    .save('')"
   ]
  }
 ],
 "metadata": {
  "kernelspec": {
   "display_name": "Python 3",
   "language": "python",
   "name": "python3"
  },
  "language_info": {
   "codemirror_mode": {
    "name": "ipython",
    "version": 3
   },
   "file_extension": ".py",
   "mimetype": "text/x-python",
   "name": "python",
   "nbconvert_exporter": "python",
   "pygments_lexer": "ipython3",
   "version": "3.7.3"
  },
  "toc": {
   "base_numbering": 1,
   "nav_menu": {},
   "number_sections": true,
   "sideBar": true,
   "skip_h1_title": false,
   "title_cell": "Table of Contents",
   "title_sidebar": "Contents",
   "toc_cell": false,
   "toc_position": {},
   "toc_section_display": true,
   "toc_window_display": false
  }
 },
 "nbformat": 4,
 "nbformat_minor": 2
}
