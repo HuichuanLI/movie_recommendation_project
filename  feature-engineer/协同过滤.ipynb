{
 "cells": [
  {
   "cell_type": "code",
   "execution_count": 1,
   "metadata": {
    "ExecuteTime": {
     "end_time": "2022-02-03T05:50:39.452638Z",
     "start_time": "2022-02-03T05:50:39.447552Z"
    }
   },
   "outputs": [],
   "source": [
    "import findspark\n",
    "findspark.init()"
   ]
  },
  {
   "cell_type": "code",
   "execution_count": 2,
   "metadata": {
    "ExecuteTime": {
     "end_time": "2022-02-03T05:50:43.679045Z",
     "start_time": "2022-02-03T05:50:43.493514Z"
    }
   },
   "outputs": [],
   "source": [
    "import pyspark\n",
    "from pyspark import SparkContext\n",
    "from pyspark.sql import SparkSession\n",
    "from pyspark.sql.functions import *"
   ]
  },
  {
   "cell_type": "code",
   "execution_count": 4,
   "metadata": {
    "ExecuteTime": {
     "end_time": "2022-02-03T07:18:36.159243Z",
     "start_time": "2022-02-03T07:18:34.050318Z"
    }
   },
   "outputs": [],
   "source": [
    "\n",
    "import pandas as pd\n",
    "import numpy as np\n",
    "rating_df = pd.read_csv(\"../dataset/rating.csv\")"
   ]
  },
  {
   "cell_type": "code",
   "execution_count": 15,
   "metadata": {
    "ExecuteTime": {
     "end_time": "2022-02-03T07:57:29.245507Z",
     "start_time": "2022-02-03T07:57:29.004879Z"
    }
   },
   "outputs": [],
   "source": [
    "rating_df = rating_df[(rating_df['rating'] > 0) & (rating_df['user_id'] != 42653)]"
   ]
  },
  {
   "cell_type": "code",
   "execution_count": 16,
   "metadata": {
    "ExecuteTime": {
     "end_time": "2022-02-03T07:57:29.280225Z",
     "start_time": "2022-02-03T07:57:29.247927Z"
    }
   },
   "outputs": [],
   "source": [
    "anime_df = pd.read_csv(\"../dataset/anime.csv\")"
   ]
  },
  {
   "cell_type": "code",
   "execution_count": 19,
   "metadata": {
    "ExecuteTime": {
     "end_time": "2022-02-03T07:59:41.957189Z",
     "start_time": "2022-02-03T07:58:56.486431Z"
    }
   },
   "outputs": [],
   "source": [
    "r_df = rating_df.reset_index().pivot (index='user_id', columns='anime_id', values='rating').fillna(0)"
   ]
  },
  {
   "cell_type": "code",
   "execution_count": 20,
   "metadata": {
    "ExecuteTime": {
     "end_time": "2022-02-03T07:59:41.977266Z",
     "start_time": "2022-02-03T07:59:41.967880Z"
    }
   },
   "outputs": [],
   "source": [
    "r = r_df.to_numpy()"
   ]
  },
  {
   "cell_type": "code",
   "execution_count": 26,
   "metadata": {
    "ExecuteTime": {
     "end_time": "2022-02-03T08:24:59.741394Z",
     "start_time": "2022-02-03T08:24:59.737052Z"
    }
   },
   "outputs": [
    {
     "data": {
      "text/plain": [
       "array([[ 0.,  0.,  0., ...,  0.,  0.,  0.],\n",
       "       [ 0.,  0.,  0., ...,  0.,  0.,  0.],\n",
       "       [ 0.,  0.,  0., ...,  0.,  0.,  0.],\n",
       "       ...,\n",
       "       [ 0.,  0.,  0., ...,  0.,  0.,  0.],\n",
       "       [10., 10., 10., ...,  0.,  0.,  0.],\n",
       "       [ 0.,  0.,  0., ...,  0.,  0.,  0.]])"
      ]
     },
     "execution_count": 26,
     "metadata": {},
     "output_type": "execute_result"
    }
   ],
   "source": [
    "r"
   ]
  },
  {
   "cell_type": "markdown",
   "metadata": {},
   "source": [
    "# svd"
   ]
  },
  {
   "cell_type": "code",
   "execution_count": 21,
   "metadata": {
    "ExecuteTime": {
     "end_time": "2022-02-03T08:10:22.483727Z",
     "start_time": "2022-02-03T08:10:17.507248Z"
    }
   },
   "outputs": [],
   "source": [
    "from scipy.sparse.linalg  import svds"
   ]
  },
  {
   "cell_type": "code",
   "execution_count": 27,
   "metadata": {
    "ExecuteTime": {
     "end_time": "2022-02-03T08:36:16.905515Z",
     "start_time": "2022-02-03T08:36:10.861029Z"
    }
   },
   "outputs": [],
   "source": [
    "rating_means = np.mean(r,axis=1)\n",
    "r_demeaned = r-rating_means.reshape(-1, 1)\n",
    "    "
   ]
  },
  {
   "cell_type": "code",
   "execution_count": 28,
   "metadata": {
    "ExecuteTime": {
     "end_time": "2022-02-03T08:37:21.597026Z",
     "start_time": "2022-02-03T08:36:16.910756Z"
    }
   },
   "outputs": [],
   "source": [
    "U,sigma,Vt = svds(r_demeaned,k=20)"
   ]
  },
  {
   "cell_type": "code",
   "execution_count": 30,
   "metadata": {
    "ExecuteTime": {
     "end_time": "2022-02-03T08:38:56.543580Z",
     "start_time": "2022-02-03T08:38:23.904168Z"
    }
   },
   "outputs": [],
   "source": [
    "sigma= np.diag(sigma)\n",
    "preds= np. dot(np.dot(U, sigma), Vt) + rating_means. reshape(-1, 1)\n"
   ]
  },
  {
   "cell_type": "code",
   "execution_count": 31,
   "metadata": {
    "ExecuteTime": {
     "end_time": "2022-02-03T08:45:59.701322Z",
     "start_time": "2022-02-03T08:45:59.696007Z"
    }
   },
   "outputs": [],
   "source": [
    "preds = pd.DataFrame(preds,columns=r_df.columns)"
   ]
  },
  {
   "cell_type": "code",
   "execution_count": 32,
   "metadata": {
    "ExecuteTime": {
     "end_time": "2022-02-03T08:46:10.869127Z",
     "start_time": "2022-02-03T08:46:02.699281Z"
    }
   },
   "outputs": [
    {
     "data": {
      "text/html": [
       "<div>\n",
       "<style scoped>\n",
       "    .dataframe tbody tr th:only-of-type {\n",
       "        vertical-align: middle;\n",
       "    }\n",
       "\n",
       "    .dataframe tbody tr th {\n",
       "        vertical-align: top;\n",
       "    }\n",
       "\n",
       "    .dataframe thead th {\n",
       "        text-align: right;\n",
       "    }\n",
       "</style>\n",
       "<table border=\"1\" class=\"dataframe\">\n",
       "  <thead>\n",
       "    <tr style=\"text-align: right;\">\n",
       "      <th>anime_id</th>\n",
       "      <th>1</th>\n",
       "      <th>5</th>\n",
       "      <th>6</th>\n",
       "      <th>7</th>\n",
       "      <th>8</th>\n",
       "      <th>15</th>\n",
       "      <th>16</th>\n",
       "      <th>17</th>\n",
       "      <th>18</th>\n",
       "      <th>19</th>\n",
       "      <th>...</th>\n",
       "      <th>34238</th>\n",
       "      <th>34239</th>\n",
       "      <th>34240</th>\n",
       "      <th>34252</th>\n",
       "      <th>34283</th>\n",
       "      <th>34324</th>\n",
       "      <th>34325</th>\n",
       "      <th>34349</th>\n",
       "      <th>34367</th>\n",
       "      <th>34475</th>\n",
       "    </tr>\n",
       "  </thead>\n",
       "  <tbody>\n",
       "    <tr>\n",
       "      <th>0</th>\n",
       "      <td>0.089580</td>\n",
       "      <td>0.047646</td>\n",
       "      <td>0.099810</td>\n",
       "      <td>0.012229</td>\n",
       "      <td>-0.003883</td>\n",
       "      <td>-0.022197</td>\n",
       "      <td>-0.210999</td>\n",
       "      <td>-0.008665</td>\n",
       "      <td>0.038016</td>\n",
       "      <td>0.006859</td>\n",
       "      <td>...</td>\n",
       "      <td>-0.005819</td>\n",
       "      <td>0.003069</td>\n",
       "      <td>-0.062132</td>\n",
       "      <td>0.003280</td>\n",
       "      <td>0.000879</td>\n",
       "      <td>0.001889</td>\n",
       "      <td>0.000351</td>\n",
       "      <td>0.002417</td>\n",
       "      <td>0.002380</td>\n",
       "      <td>0.002822</td>\n",
       "    </tr>\n",
       "    <tr>\n",
       "      <th>1</th>\n",
       "      <td>-0.022364</td>\n",
       "      <td>-0.024853</td>\n",
       "      <td>-0.025923</td>\n",
       "      <td>-0.040448</td>\n",
       "      <td>0.007292</td>\n",
       "      <td>0.105692</td>\n",
       "      <td>0.028727</td>\n",
       "      <td>0.031682</td>\n",
       "      <td>0.067349</td>\n",
       "      <td>0.060930</td>\n",
       "      <td>...</td>\n",
       "      <td>-0.000887</td>\n",
       "      <td>-0.002281</td>\n",
       "      <td>-0.019833</td>\n",
       "      <td>-0.002644</td>\n",
       "      <td>-0.001730</td>\n",
       "      <td>-0.002390</td>\n",
       "      <td>-0.002397</td>\n",
       "      <td>-0.002203</td>\n",
       "      <td>-0.002365</td>\n",
       "      <td>-0.002433</td>\n",
       "    </tr>\n",
       "    <tr>\n",
       "      <th>2</th>\n",
       "      <td>-1.060832</td>\n",
       "      <td>-1.041978</td>\n",
       "      <td>-0.637602</td>\n",
       "      <td>-0.231377</td>\n",
       "      <td>0.134907</td>\n",
       "      <td>0.740965</td>\n",
       "      <td>-0.274167</td>\n",
       "      <td>0.199829</td>\n",
       "      <td>0.184385</td>\n",
       "      <td>0.322335</td>\n",
       "      <td>...</td>\n",
       "      <td>0.006195</td>\n",
       "      <td>-0.005582</td>\n",
       "      <td>0.357138</td>\n",
       "      <td>-0.008975</td>\n",
       "      <td>-0.009779</td>\n",
       "      <td>-0.004203</td>\n",
       "      <td>0.008490</td>\n",
       "      <td>-0.006798</td>\n",
       "      <td>-0.007129</td>\n",
       "      <td>-0.005055</td>\n",
       "    </tr>\n",
       "    <tr>\n",
       "      <th>3</th>\n",
       "      <td>3.438751</td>\n",
       "      <td>1.610084</td>\n",
       "      <td>3.335405</td>\n",
       "      <td>0.308518</td>\n",
       "      <td>0.302808</td>\n",
       "      <td>2.516022</td>\n",
       "      <td>1.853274</td>\n",
       "      <td>0.702383</td>\n",
       "      <td>1.210717</td>\n",
       "      <td>2.514673</td>\n",
       "      <td>...</td>\n",
       "      <td>0.021639</td>\n",
       "      <td>-0.023569</td>\n",
       "      <td>0.297816</td>\n",
       "      <td>-0.025057</td>\n",
       "      <td>-0.016289</td>\n",
       "      <td>-0.011872</td>\n",
       "      <td>0.003365</td>\n",
       "      <td>-0.019720</td>\n",
       "      <td>-0.018891</td>\n",
       "      <td>-0.021881</td>\n",
       "    </tr>\n",
       "    <tr>\n",
       "      <th>4</th>\n",
       "      <td>2.973376</td>\n",
       "      <td>1.706210</td>\n",
       "      <td>2.037864</td>\n",
       "      <td>0.396708</td>\n",
       "      <td>0.040940</td>\n",
       "      <td>0.081795</td>\n",
       "      <td>-0.334462</td>\n",
       "      <td>0.108283</td>\n",
       "      <td>0.288207</td>\n",
       "      <td>0.490681</td>\n",
       "      <td>...</td>\n",
       "      <td>0.045626</td>\n",
       "      <td>-0.043061</td>\n",
       "      <td>0.875342</td>\n",
       "      <td>-0.035410</td>\n",
       "      <td>-0.013402</td>\n",
       "      <td>-0.022022</td>\n",
       "      <td>-0.004508</td>\n",
       "      <td>-0.025891</td>\n",
       "      <td>-0.027263</td>\n",
       "      <td>-0.041955</td>\n",
       "    </tr>\n",
       "    <tr>\n",
       "      <th>...</th>\n",
       "      <td>...</td>\n",
       "      <td>...</td>\n",
       "      <td>...</td>\n",
       "      <td>...</td>\n",
       "      <td>...</td>\n",
       "      <td>...</td>\n",
       "      <td>...</td>\n",
       "      <td>...</td>\n",
       "      <td>...</td>\n",
       "      <td>...</td>\n",
       "      <td>...</td>\n",
       "      <td>...</td>\n",
       "      <td>...</td>\n",
       "      <td>...</td>\n",
       "      <td>...</td>\n",
       "      <td>...</td>\n",
       "      <td>...</td>\n",
       "      <td>...</td>\n",
       "      <td>...</td>\n",
       "      <td>...</td>\n",
       "      <td>...</td>\n",
       "    </tr>\n",
       "    <tr>\n",
       "      <th>69594</th>\n",
       "      <td>0.514331</td>\n",
       "      <td>0.309438</td>\n",
       "      <td>0.413956</td>\n",
       "      <td>0.293898</td>\n",
       "      <td>0.000143</td>\n",
       "      <td>-0.121581</td>\n",
       "      <td>0.385831</td>\n",
       "      <td>-0.019764</td>\n",
       "      <td>-0.041938</td>\n",
       "      <td>0.213500</td>\n",
       "      <td>...</td>\n",
       "      <td>-0.008750</td>\n",
       "      <td>-0.007958</td>\n",
       "      <td>0.022841</td>\n",
       "      <td>-0.007633</td>\n",
       "      <td>-0.010055</td>\n",
       "      <td>-0.008305</td>\n",
       "      <td>-0.008639</td>\n",
       "      <td>-0.007926</td>\n",
       "      <td>-0.008197</td>\n",
       "      <td>-0.008525</td>\n",
       "    </tr>\n",
       "    <tr>\n",
       "      <th>69595</th>\n",
       "      <td>2.768507</td>\n",
       "      <td>1.628949</td>\n",
       "      <td>1.786033</td>\n",
       "      <td>0.457885</td>\n",
       "      <td>0.022244</td>\n",
       "      <td>0.034066</td>\n",
       "      <td>0.707464</td>\n",
       "      <td>-0.014031</td>\n",
       "      <td>0.173089</td>\n",
       "      <td>0.339161</td>\n",
       "      <td>...</td>\n",
       "      <td>-0.012198</td>\n",
       "      <td>-0.010695</td>\n",
       "      <td>0.132717</td>\n",
       "      <td>-0.011140</td>\n",
       "      <td>-0.016425</td>\n",
       "      <td>-0.011858</td>\n",
       "      <td>-0.011570</td>\n",
       "      <td>-0.011363</td>\n",
       "      <td>-0.012107</td>\n",
       "      <td>-0.011035</td>\n",
       "    </tr>\n",
       "    <tr>\n",
       "      <th>69596</th>\n",
       "      <td>0.068889</td>\n",
       "      <td>0.072560</td>\n",
       "      <td>0.018157</td>\n",
       "      <td>0.012274</td>\n",
       "      <td>-0.001247</td>\n",
       "      <td>-0.013499</td>\n",
       "      <td>0.021001</td>\n",
       "      <td>-0.006580</td>\n",
       "      <td>-0.013538</td>\n",
       "      <td>-0.002999</td>\n",
       "      <td>...</td>\n",
       "      <td>-0.000350</td>\n",
       "      <td>-0.001233</td>\n",
       "      <td>0.014203</td>\n",
       "      <td>-0.001242</td>\n",
       "      <td>-0.001542</td>\n",
       "      <td>-0.001090</td>\n",
       "      <td>-0.000927</td>\n",
       "      <td>-0.000989</td>\n",
       "      <td>-0.001139</td>\n",
       "      <td>-0.001111</td>\n",
       "    </tr>\n",
       "    <tr>\n",
       "      <th>69597</th>\n",
       "      <td>7.125935</td>\n",
       "      <td>3.773151</td>\n",
       "      <td>5.915998</td>\n",
       "      <td>2.027060</td>\n",
       "      <td>0.115315</td>\n",
       "      <td>0.317967</td>\n",
       "      <td>0.413548</td>\n",
       "      <td>0.014931</td>\n",
       "      <td>0.508228</td>\n",
       "      <td>2.821812</td>\n",
       "      <td>...</td>\n",
       "      <td>-0.034482</td>\n",
       "      <td>-0.015058</td>\n",
       "      <td>-0.347330</td>\n",
       "      <td>-0.014578</td>\n",
       "      <td>-0.003261</td>\n",
       "      <td>-0.007963</td>\n",
       "      <td>-0.033608</td>\n",
       "      <td>-0.008566</td>\n",
       "      <td>-0.010940</td>\n",
       "      <td>-0.009641</td>\n",
       "    </tr>\n",
       "    <tr>\n",
       "      <th>69598</th>\n",
       "      <td>0.221737</td>\n",
       "      <td>0.107675</td>\n",
       "      <td>0.163308</td>\n",
       "      <td>0.034128</td>\n",
       "      <td>-0.008964</td>\n",
       "      <td>-0.048023</td>\n",
       "      <td>-0.035084</td>\n",
       "      <td>-0.021312</td>\n",
       "      <td>-0.008868</td>\n",
       "      <td>0.076924</td>\n",
       "      <td>...</td>\n",
       "      <td>-0.001364</td>\n",
       "      <td>0.001197</td>\n",
       "      <td>-0.014164</td>\n",
       "      <td>0.001365</td>\n",
       "      <td>0.001039</td>\n",
       "      <td>0.001370</td>\n",
       "      <td>0.000161</td>\n",
       "      <td>0.000854</td>\n",
       "      <td>0.001226</td>\n",
       "      <td>0.001460</td>\n",
       "    </tr>\n",
       "  </tbody>\n",
       "</table>\n",
       "<p>69599 rows × 9927 columns</p>\n",
       "</div>"
      ],
      "text/plain": [
       "anime_id     1         5         6         7         8         15     \\\n",
       "0         0.089580  0.047646  0.099810  0.012229 -0.003883 -0.022197   \n",
       "1        -0.022364 -0.024853 -0.025923 -0.040448  0.007292  0.105692   \n",
       "2        -1.060832 -1.041978 -0.637602 -0.231377  0.134907  0.740965   \n",
       "3         3.438751  1.610084  3.335405  0.308518  0.302808  2.516022   \n",
       "4         2.973376  1.706210  2.037864  0.396708  0.040940  0.081795   \n",
       "...            ...       ...       ...       ...       ...       ...   \n",
       "69594     0.514331  0.309438  0.413956  0.293898  0.000143 -0.121581   \n",
       "69595     2.768507  1.628949  1.786033  0.457885  0.022244  0.034066   \n",
       "69596     0.068889  0.072560  0.018157  0.012274 -0.001247 -0.013499   \n",
       "69597     7.125935  3.773151  5.915998  2.027060  0.115315  0.317967   \n",
       "69598     0.221737  0.107675  0.163308  0.034128 -0.008964 -0.048023   \n",
       "\n",
       "anime_id     16        17        18        19     ...     34238     34239  \\\n",
       "0        -0.210999 -0.008665  0.038016  0.006859  ... -0.005819  0.003069   \n",
       "1         0.028727  0.031682  0.067349  0.060930  ... -0.000887 -0.002281   \n",
       "2        -0.274167  0.199829  0.184385  0.322335  ...  0.006195 -0.005582   \n",
       "3         1.853274  0.702383  1.210717  2.514673  ...  0.021639 -0.023569   \n",
       "4        -0.334462  0.108283  0.288207  0.490681  ...  0.045626 -0.043061   \n",
       "...            ...       ...       ...       ...  ...       ...       ...   \n",
       "69594     0.385831 -0.019764 -0.041938  0.213500  ... -0.008750 -0.007958   \n",
       "69595     0.707464 -0.014031  0.173089  0.339161  ... -0.012198 -0.010695   \n",
       "69596     0.021001 -0.006580 -0.013538 -0.002999  ... -0.000350 -0.001233   \n",
       "69597     0.413548  0.014931  0.508228  2.821812  ... -0.034482 -0.015058   \n",
       "69598    -0.035084 -0.021312 -0.008868  0.076924  ... -0.001364  0.001197   \n",
       "\n",
       "anime_id     34240     34252     34283     34324     34325     34349  \\\n",
       "0        -0.062132  0.003280  0.000879  0.001889  0.000351  0.002417   \n",
       "1        -0.019833 -0.002644 -0.001730 -0.002390 -0.002397 -0.002203   \n",
       "2         0.357138 -0.008975 -0.009779 -0.004203  0.008490 -0.006798   \n",
       "3         0.297816 -0.025057 -0.016289 -0.011872  0.003365 -0.019720   \n",
       "4         0.875342 -0.035410 -0.013402 -0.022022 -0.004508 -0.025891   \n",
       "...            ...       ...       ...       ...       ...       ...   \n",
       "69594     0.022841 -0.007633 -0.010055 -0.008305 -0.008639 -0.007926   \n",
       "69595     0.132717 -0.011140 -0.016425 -0.011858 -0.011570 -0.011363   \n",
       "69596     0.014203 -0.001242 -0.001542 -0.001090 -0.000927 -0.000989   \n",
       "69597    -0.347330 -0.014578 -0.003261 -0.007963 -0.033608 -0.008566   \n",
       "69598    -0.014164  0.001365  0.001039  0.001370  0.000161  0.000854   \n",
       "\n",
       "anime_id     34367     34475  \n",
       "0         0.002380  0.002822  \n",
       "1        -0.002365 -0.002433  \n",
       "2        -0.007129 -0.005055  \n",
       "3        -0.018891 -0.021881  \n",
       "4        -0.027263 -0.041955  \n",
       "...            ...       ...  \n",
       "69594    -0.008197 -0.008525  \n",
       "69595    -0.012107 -0.011035  \n",
       "69596    -0.001139 -0.001111  \n",
       "69597    -0.010940 -0.009641  \n",
       "69598     0.001226  0.001460  \n",
       "\n",
       "[69599 rows x 9927 columns]"
      ]
     },
     "execution_count": 32,
     "metadata": {},
     "output_type": "execute_result"
    }
   ],
   "source": [
    "preds"
   ]
  }
 ],
 "metadata": {
  "kernelspec": {
   "display_name": "Python 3",
   "language": "python",
   "name": "python3"
  },
  "language_info": {
   "codemirror_mode": {
    "name": "ipython",
    "version": 3
   },
   "file_extension": ".py",
   "mimetype": "text/x-python",
   "name": "python",
   "nbconvert_exporter": "python",
   "pygments_lexer": "ipython3",
   "version": "3.7.3"
  },
  "toc": {
   "base_numbering": 1,
   "nav_menu": {},
   "number_sections": true,
   "sideBar": true,
   "skip_h1_title": false,
   "title_cell": "Table of Contents",
   "title_sidebar": "Contents",
   "toc_cell": false,
   "toc_position": {},
   "toc_section_display": true,
   "toc_window_display": false
  }
 },
 "nbformat": 4,
 "nbformat_minor": 2
}
