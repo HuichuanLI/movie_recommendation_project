{
 "cells": [
  {
   "cell_type": "markdown",
   "metadata": {},
   "source": [
    "Feature Engineering for Deep Learning\n"
   ]
  },
  {
   "cell_type": "code",
   "execution_count": 1,
   "metadata": {
    "ExecuteTime": {
     "end_time": "2022-02-08T15:50:49.305776Z",
     "start_time": "2022-02-08T15:50:49.302187Z"
    }
   },
   "outputs": [],
   "source": [
    "import findspark\n",
    "findspark.init()"
   ]
  },
  {
   "cell_type": "code",
   "execution_count": 2,
   "metadata": {
    "ExecuteTime": {
     "end_time": "2022-02-08T15:50:49.495019Z",
     "start_time": "2022-02-08T15:50:49.307914Z"
    }
   },
   "outputs": [],
   "source": [
    "import pyspark\n",
    "from pyspark import SparkContext\n",
    "from pyspark.sql import SparkSession\n",
    "from pyspark.sql.functions import *"
   ]
  },
  {
   "cell_type": "code",
   "execution_count": 3,
   "metadata": {
    "ExecuteTime": {
     "end_time": "2022-02-08T15:50:52.321430Z",
     "start_time": "2022-02-08T15:50:49.497686Z"
    }
   },
   "outputs": [],
   "source": [
    "spark = SparkSession \\\n",
    "    .builder \\\n",
    "    .appName(\"concrec-rank\") \\\n",
    "    .config(\"spark.driver.memory\", \"11g\") \\\n",
    "    .getOrCreate()"
   ]
  },
  {
   "cell_type": "code",
   "execution_count": 4,
   "metadata": {
    "ExecuteTime": {
     "end_time": "2022-02-08T15:50:56.137251Z",
     "start_time": "2022-02-08T15:50:52.324904Z"
    }
   },
   "outputs": [],
   "source": [
    "anime_df = spark.read.csv('../dataset/parsed_anime.csv', header=True, inferSchema=True)\n"
   ]
  },
  {
   "cell_type": "code",
   "execution_count": 5,
   "metadata": {
    "ExecuteTime": {
     "end_time": "2022-02-08T15:50:56.157670Z",
     "start_time": "2022-02-08T15:50:56.139540Z"
    }
   },
   "outputs": [
    {
     "name": "stdout",
     "output_type": "stream",
     "text": [
      "root\n",
      " |-- anime_id: integer (nullable = true)\n",
      " |-- name: string (nullable = true)\n",
      " |-- genre: string (nullable = true)\n",
      " |-- type: string (nullable = true)\n",
      " |-- episodes: string (nullable = true)\n",
      " |-- rating: double (nullable = true)\n",
      " |-- members: integer (nullable = true)\n",
      " |-- japanese_title: string (nullable = true)\n",
      " |-- aired: string (nullable = true)\n",
      " |-- image_url: string (nullable = true)\n",
      " |-- aired_from: string (nullable = true)\n",
      " |-- aired_to: integer (nullable = true)\n",
      "\n"
     ]
    }
   ],
   "source": [
    "anime_df.printSchema()\n"
   ]
  },
  {
   "cell_type": "code",
   "execution_count": 6,
   "metadata": {
    "ExecuteTime": {
     "end_time": "2022-02-08T15:50:56.319545Z",
     "start_time": "2022-02-08T15:50:56.159182Z"
    }
   },
   "outputs": [],
   "source": [
    "from pyspark.sql.types import IntegerType\n",
    "anime_df = anime_df.withColumn('aired_from', col('aired_from').cast('int'))"
   ]
  },
  {
   "cell_type": "code",
   "execution_count": 7,
   "metadata": {
    "ExecuteTime": {
     "end_time": "2022-02-08T15:50:56.551586Z",
     "start_time": "2022-02-08T15:50:56.321278Z"
    }
   },
   "outputs": [
    {
     "name": "stdout",
     "output_type": "stream",
     "text": [
      "+--------+--------------------+--------------------+-----+--------+------+-------+--------------------------+--------------------+--------------------+----------+----------+\n",
      "|anime_id|                name|               genre| type|episodes|rating|members|            japanese_title|               aired|           image_url|aired_from|  aired_to|\n",
      "+--------+--------------------+--------------------+-----+--------+------+-------+--------------------------+--------------------+--------------------+----------+----------+\n",
      "|   32281|      Kimi no Na wa.|Drama, Romance, S...|Movie|       1|  9.37| 200630|                君の名は。|        Aug 26, 2016|https://cdn.myani...|1472140800|1472140800|\n",
      "|    5114|Fullmetal Alchemi...|Action, Adventure...|   TV|      64|  9.26| 793665|鋼の錬金術師 FULLMETAL ...|Apr 5, 2009 to Ju...|https://cdn.myani...|1238860800|1278172800|\n",
      "|   28977|            Gintama°|Action, Comedy, H...|   TV|      51|  9.25| 114262|                     銀魂°|Apr 8, 2015 to Ma...|https://cdn.myani...|1428422400|1459267200|\n",
      "|    9253|         Steins;Gate|    Sci-Fi, Thriller|   TV|      24|  9.17| 673572|               STEINS;GATE|Apr 6, 2011 to Se...|https://cdn.myani...|1302019200|1315929600|\n",
      "|    9969|       Gintama&#039;|Action, Comedy, H...|   TV|      51|  9.16| 151266|                     銀魂'|Apr 4, 2011 to Ma...|https://cdn.myani...|1301846400|1332691200|\n",
      "+--------+--------------------+--------------------+-----+--------+------+-------+--------------------------+--------------------+--------------------+----------+----------+\n",
      "only showing top 5 rows\n",
      "\n"
     ]
    }
   ],
   "source": [
    "anime_df.show(5)\n"
   ]
  },
  {
   "cell_type": "code",
   "execution_count": 8,
   "metadata": {
    "ExecuteTime": {
     "end_time": "2022-02-08T15:50:58.755753Z",
     "start_time": "2022-02-08T15:50:56.555013Z"
    }
   },
   "outputs": [],
   "source": [
    "rating_df = spark.read.csv('../dataset/rating.csv', header=True, inferSchema=True)\n"
   ]
  },
  {
   "cell_type": "code",
   "execution_count": 9,
   "metadata": {
    "ExecuteTime": {
     "end_time": "2022-02-08T15:50:58.805201Z",
     "start_time": "2022-02-08T15:50:58.758091Z"
    }
   },
   "outputs": [],
   "source": [
    "rating_df = rating_df.filter(rating_df['rating'] > 0)\n"
   ]
  },
  {
   "cell_type": "code",
   "execution_count": 10,
   "metadata": {
    "ExecuteTime": {
     "end_time": "2022-02-08T15:50:58.860464Z",
     "start_time": "2022-02-08T15:50:58.806992Z"
    }
   },
   "outputs": [],
   "source": [
    "merged_df = rating_df.join(\n",
    "    anime_df.select('anime_id', 'name', 'genre', 'type', 'episodes', \n",
    "                    'rating', 'members', 'aired_from', 'aired_to').withColumnRenamed('rating', 'all_rating'), \n",
    "    on=['anime_id'], how='left'\n",
    ")"
   ]
  },
  {
   "cell_type": "code",
   "execution_count": 11,
   "metadata": {
    "ExecuteTime": {
     "end_time": "2022-02-08T15:50:59.458787Z",
     "start_time": "2022-02-08T15:50:58.863253Z"
    }
   },
   "outputs": [
    {
     "name": "stdout",
     "output_type": "stream",
     "text": [
      "+--------+-------+------+--------------------+--------------------+----+--------+----------+-------+----------+----------+\n",
      "|anime_id|user_id|rating|                name|               genre|type|episodes|all_rating|members|aired_from|  aired_to|\n",
      "+--------+-------+------+--------------------+--------------------+----+--------+----------+-------+----------+----------+\n",
      "|    8074|      1|    10|Highschool of the...|Action, Ecchi, Ho...|  TV|      12|      7.46| 535892|1278259200|1284912000|\n",
      "|   11617|      1|    10|     High School DxD|Comedy, Demons, E...|  TV|      12|       7.7| 398660|1325779200|1332432000|\n",
      "|   11757|      1|    10|    Sword Art Online|Action, Adventure...|  TV|      25|      7.83| 893100|1341676800|1356192000|\n",
      "|   15451|      1|    10| High School DxD New|Action, Comedy, D...|  TV|      12|      7.87| 266657|1373126400|1379779200|\n",
      "|   11771|      2|    10|    Kuroko no Basket|Comedy, School, S...|  TV|      25|      8.46| 338315|1333814400|1348243200|\n",
      "+--------+-------+------+--------------------+--------------------+----+--------+----------+-------+----------+----------+\n",
      "only showing top 5 rows\n",
      "\n"
     ]
    }
   ],
   "source": [
    "merged_df.show(5)\n"
   ]
  },
  {
   "cell_type": "markdown",
   "metadata": {},
   "source": [
    "### Build Label\n"
   ]
  },
  {
   "cell_type": "code",
   "execution_count": 12,
   "metadata": {
    "ExecuteTime": {
     "end_time": "2022-02-08T15:50:59.464096Z",
     "start_time": "2022-02-08T15:50:59.461063Z"
    }
   },
   "outputs": [],
   "source": [
    "like_threshold = 7.5\n",
    "\n",
    "def build_label(df):\n",
    "    return df.withColumn('label',\n",
    "                         when(col('rating') >= like_threshold, 1).otherwise(0)\n",
    "                        )"
   ]
  },
  {
   "cell_type": "code",
   "execution_count": 13,
   "metadata": {
    "ExecuteTime": {
     "end_time": "2022-02-08T15:50:59.817727Z",
     "start_time": "2022-02-08T15:50:59.466163Z"
    }
   },
   "outputs": [
    {
     "name": "stdout",
     "output_type": "stream",
     "text": [
      "+--------+-------+------+--------------------+--------------------+----+--------+----------+-------+----------+----------+-----+\n",
      "|anime_id|user_id|rating|                name|               genre|type|episodes|all_rating|members|aired_from|  aired_to|label|\n",
      "+--------+-------+------+--------------------+--------------------+----+--------+----------+-------+----------+----------+-----+\n",
      "|    8074|      1|    10|Highschool of the...|Action, Ecchi, Ho...|  TV|      12|      7.46| 535892|1278259200|1284912000|    1|\n",
      "|   11617|      1|    10|     High School DxD|Comedy, Demons, E...|  TV|      12|       7.7| 398660|1325779200|1332432000|    1|\n",
      "|   11757|      1|    10|    Sword Art Online|Action, Adventure...|  TV|      25|      7.83| 893100|1341676800|1356192000|    1|\n",
      "|   15451|      1|    10| High School DxD New|Action, Comedy, D...|  TV|      12|      7.87| 266657|1373126400|1379779200|    1|\n",
      "|   11771|      2|    10|    Kuroko no Basket|Comedy, School, S...|  TV|      25|      8.46| 338315|1333814400|1348243200|    1|\n",
      "+--------+-------+------+--------------------+--------------------+----+--------+----------+-------+----------+----------+-----+\n",
      "only showing top 5 rows\n",
      "\n"
     ]
    }
   ],
   "source": [
    "labeled_df = build_label(merged_df)\n",
    "labeled_df.show(5)"
   ]
  },
  {
   "cell_type": "markdown",
   "metadata": {},
   "source": [
    "### Sliding Window\n",
    "这里要在df的每个row上，额外增加和用户相关的信息。比如该用户最爱的电影类型、该用户看过多少电影、平均打分是多少\n",
    "为了防止泄露未来信息，需把所有评分按照时间顺序排序，然后用滑动窗口聚合\n",
    "理论应该使用评分时间，但是由于没有这个数据，所以采用电影上映时间"
   ]
  },
  {
   "cell_type": "code",
   "execution_count": 14,
   "metadata": {
    "ExecuteTime": {
     "end_time": "2022-02-08T15:50:59.823941Z",
     "start_time": "2022-02-08T15:50:59.820794Z"
    }
   },
   "outputs": [],
   "source": [
    "from pyspark.sql.window import Window\n",
    "from pyspark.sql import functions as F\n",
    "import pyspark.sql.types as types"
   ]
  },
  {
   "cell_type": "code",
   "execution_count": 15,
   "metadata": {
    "ExecuteTime": {
     "end_time": "2022-02-08T15:50:59.851450Z",
     "start_time": "2022-02-08T15:50:59.827056Z"
    }
   },
   "outputs": [],
   "source": [
    "windowSpec = Window \\\n",
    "    .partitionBy('user_id') \\\n",
    "    .orderBy('aired_from') \\\n",
    "    .rowsBetween(-100, -1)"
   ]
  },
  {
   "cell_type": "code",
   "execution_count": 16,
   "metadata": {
    "ExecuteTime": {
     "end_time": "2022-02-08T15:50:59.862546Z",
     "start_time": "2022-02-08T15:50:59.853425Z"
    }
   },
   "outputs": [],
   "source": [
    "# 帮助方法：对于某一列，在聚合的时候，如果用户不喜欢这个电影，则不聚合这个电影的信息\n",
    "likedMoviesCol = lambda cname: when(col('label') == 1, col(cname)).otherwise(lit(None))\n",
    "\n",
    "@udf(types.ArrayType(types.StringType()))\n",
    "def most_liked_genres(gen_strs):\n",
    "    \"\"\"\n",
    "    gen_strs = [\"Action, Adventure, Drama\", \"Comedy, Drama, School\"]\n",
    "    \"\"\"\n",
    "    gens = [s.split(\",\") for s in gen_strs]\n",
    "    gens = [x for l in gens for x in l] # flatten\n",
    "    gens = [s.strip() for s in gens]\n",
    "    \n",
    "    gen_set = set(gens)\n",
    "    count_occur = lambda gen, l: len([g for g in l if g == gen])\n",
    "    gen_with_occur = [(gen, count_occur(gen, gens)) for gen in gen_set]\n",
    "    gen_with_occur.sort(key=lambda x: x[1], reverse=True)\n",
    "    \n",
    "    # pick 3 most liked genres\n",
    "    return [x[0] for x in gen_with_occur[:5]]"
   ]
  },
  {
   "cell_type": "code",
   "execution_count": 18,
   "metadata": {
    "ExecuteTime": {
     "end_time": "2022-02-08T15:51:39.714760Z",
     "start_time": "2022-02-08T15:51:39.666170Z"
    }
   },
   "outputs": [],
   "source": [
    "# 帮助方法：对于某一列，在聚合的时候，如果用户不喜欢这个电影，则不聚合这个电影的信息\n",
    "likedMoviesCol = lambda colname: when(col('label') == 1, col(colname)).otherwise(lit(None))\n",
    "\n",
    "\n",
    "@udf(returnType='array<string>')\n",
    "def genre_to_list(gen_str):\n",
    "    if gen_str is None:\n",
    "        return []\n",
    "    \n",
    "    gens = gen_str.split(\",\")\n",
    "    return [gen.strip() for gen in gens]\n",
    "\n",
    "\n",
    "@udf(types.ArrayType(types.StringType()))\n",
    "def most_liked_genres(gen_strs):\n",
    "    \"\"\"\n",
    "    gen_strs = [\"Action, Adventure, Drama\", \"Comedy, Drama, School\"]\n",
    "    \"\"\"\n",
    "    gens = [s.split(\",\") for s in gen_strs]\n",
    "    gens = [x for l in gens for x in l] # flatten\n",
    "    gens = [s.strip() for s in gens]\n",
    "    \n",
    "    gen_set = set(gens)\n",
    "    count_occur = lambda gen, l: len([g for g in l if g == gen])\n",
    "    gen_with_occur = [(gen, count_occur(gen, gens)) for gen in gen_set]\n",
    "    gen_with_occur.sort(key=lambda x: x[1], reverse=True)\n",
    "    \n",
    "    # pick 5 most liked genres\n",
    "    return [x[0] for x in gen_with_occur[:5]]"
   ]
  },
  {
   "cell_type": "code",
   "execution_count": 19,
   "metadata": {
    "ExecuteTime": {
     "end_time": "2022-02-08T15:51:40.746212Z",
     "start_time": "2022-02-08T15:51:40.655065Z"
    }
   },
   "outputs": [
    {
     "ename": "NameError",
     "evalue": "name 'NUMBER_PRECISION' is not defined",
     "output_type": "error",
     "traceback": [
      "\u001b[0;31m---------------------------------------------------------------------------\u001b[0m",
      "\u001b[0;31mNameError\u001b[0m                                 Traceback (most recent call last)",
      "\u001b[0;32m<ipython-input-19-961023dde3c4>\u001b[0m in \u001b[0;36m<module>\u001b[0;34m\u001b[0m\n\u001b[1;32m      3\u001b[0m     \u001b[0;34m.\u001b[0m\u001b[0mwithColumn\u001b[0m\u001b[0;34m(\u001b[0m\u001b[0;34m'user_rating_cnt'\u001b[0m\u001b[0;34m,\u001b[0m \u001b[0mcount\u001b[0m\u001b[0;34m(\u001b[0m\u001b[0mlit\u001b[0m\u001b[0;34m(\u001b[0m\u001b[0;36m1\u001b[0m\u001b[0;34m)\u001b[0m\u001b[0;34m)\u001b[0m\u001b[0;34m.\u001b[0m\u001b[0mover\u001b[0m\u001b[0;34m(\u001b[0m\u001b[0mwindowSpec\u001b[0m\u001b[0;34m)\u001b[0m\u001b[0;34m)\u001b[0m\u001b[0;31m \u001b[0m\u001b[0;31m\\\u001b[0m\u001b[0;34m\u001b[0m\u001b[0;34m\u001b[0m\u001b[0m\n\u001b[1;32m      4\u001b[0m     \u001b[0;34m.\u001b[0m\u001b[0mwithColumn\u001b[0m\u001b[0;34m(\u001b[0m\u001b[0;34m'user_rating_ave'\u001b[0m\u001b[0;34m,\u001b[0m \u001b[0mmean\u001b[0m\u001b[0;34m(\u001b[0m\u001b[0mcol\u001b[0m\u001b[0;34m(\u001b[0m\u001b[0;34m'rating'\u001b[0m\u001b[0;34m)\u001b[0m\u001b[0;34m)\u001b[0m\u001b[0;34m.\u001b[0m\u001b[0mover\u001b[0m\u001b[0;34m(\u001b[0m\u001b[0mwindowSpec\u001b[0m\u001b[0;34m)\u001b[0m\u001b[0;34m)\u001b[0m\u001b[0;31m \u001b[0m\u001b[0;31m\\\u001b[0m\u001b[0;34m\u001b[0m\u001b[0;34m\u001b[0m\u001b[0m\n\u001b[0;32m----> 5\u001b[0;31m     \u001b[0;34m.\u001b[0m\u001b[0mwithColumn\u001b[0m\u001b[0;34m(\u001b[0m\u001b[0;34m'user_rating_ave'\u001b[0m\u001b[0;34m,\u001b[0m \u001b[0mF\u001b[0m\u001b[0;34m.\u001b[0m\u001b[0mround\u001b[0m\u001b[0;34m(\u001b[0m\u001b[0mcol\u001b[0m\u001b[0;34m(\u001b[0m\u001b[0;34m'user_rating_ave'\u001b[0m\u001b[0;34m)\u001b[0m\u001b[0;34m,\u001b[0m \u001b[0mNUMBER_PRECISION\u001b[0m\u001b[0;34m)\u001b[0m\u001b[0;34m)\u001b[0m\u001b[0;31m \u001b[0m\u001b[0;31m\\\u001b[0m\u001b[0;34m\u001b[0m\u001b[0;34m\u001b[0m\u001b[0m\n\u001b[0m\u001b[1;32m      6\u001b[0m     \u001b[0;34m.\u001b[0m\u001b[0mwithColumn\u001b[0m\u001b[0;34m(\u001b[0m\u001b[0;34m'user_rating_std'\u001b[0m\u001b[0;34m,\u001b[0m \u001b[0mstddev\u001b[0m\u001b[0;34m(\u001b[0m\u001b[0mcol\u001b[0m\u001b[0;34m(\u001b[0m\u001b[0;34m'rating'\u001b[0m\u001b[0;34m)\u001b[0m\u001b[0;34m)\u001b[0m\u001b[0;34m.\u001b[0m\u001b[0mover\u001b[0m\u001b[0;34m(\u001b[0m\u001b[0mwindowSpec\u001b[0m\u001b[0;34m)\u001b[0m\u001b[0;34m)\u001b[0m\u001b[0;31m \u001b[0m\u001b[0;31m\\\u001b[0m\u001b[0;34m\u001b[0m\u001b[0;34m\u001b[0m\u001b[0m\n\u001b[1;32m      7\u001b[0m     \u001b[0;34m.\u001b[0m\u001b[0mwithColumn\u001b[0m\u001b[0;34m(\u001b[0m\u001b[0;34m'user_rating_std'\u001b[0m\u001b[0;34m,\u001b[0m \u001b[0mF\u001b[0m\u001b[0;34m.\u001b[0m\u001b[0mround\u001b[0m\u001b[0;34m(\u001b[0m\u001b[0mcol\u001b[0m\u001b[0;34m(\u001b[0m\u001b[0;34m'user_rating_std'\u001b[0m\u001b[0;34m)\u001b[0m\u001b[0;34m,\u001b[0m \u001b[0mNUMBER_PRECISION\u001b[0m\u001b[0;34m)\u001b[0m\u001b[0;34m)\u001b[0m\u001b[0;31m \u001b[0m\u001b[0;31m\\\u001b[0m\u001b[0;34m\u001b[0m\u001b[0;34m\u001b[0m\u001b[0m\n",
      "\u001b[0;31mNameError\u001b[0m: name 'NUMBER_PRECISION' is not defined"
     ]
    }
   ],
   "source": [
    "feat_df = merged_df \\\n",
    "    .withColumn('genres', genre_to_list(col('genre'))) \\\n",
    "    .withColumn('user_rating_cnt', count(lit(1)).over(windowSpec)) \\\n",
    "    .withColumn('user_rating_ave', mean(col('rating')).over(windowSpec)) \\\n",
    "    .withColumn('user_rating_ave', F.round(col('user_rating_ave'), NUMBER_PRECISION)) \\\n",
    "    .withColumn('user_rating_std', stddev(col('rating')).over(windowSpec)) \\\n",
    "    .withColumn('user_rating_std', F.round(col('user_rating_std'), NUMBER_PRECISION)) \\\n",
    "    .withColumn('user_aired_from_ave', mean(likedMoviesCol('aired_from')).over(windowSpec)) \\\n",
    "    .withColumn('user_aired_from_ave', F.round(col('user_aired_from_ave'), 0)) \\\n",
    "    .withColumn('user_aired_to_ave', mean(likedMoviesCol('aired_to')).over(windowSpec)) \\\n",
    "    .withColumn('user_aired_to_ave', F.round(col('user_aired_to_ave'), 0)) \\\n",
    "    .withColumn('user_liked_genres', most_liked_genres(collect_list(likedMoviesCol('genre')).over(windowSpec)))"
   ]
  },
  {
   "cell_type": "code",
   "execution_count": null,
   "metadata": {},
   "outputs": [],
   "source": []
  }
 ],
 "metadata": {
  "kernelspec": {
   "display_name": "Python 3",
   "language": "python",
   "name": "python3"
  },
  "language_info": {
   "codemirror_mode": {
    "name": "ipython",
    "version": 3
   },
   "file_extension": ".py",
   "mimetype": "text/x-python",
   "name": "python",
   "nbconvert_exporter": "python",
   "pygments_lexer": "ipython3",
   "version": "3.7.3"
  },
  "toc": {
   "base_numbering": 1,
   "nav_menu": {},
   "number_sections": true,
   "sideBar": true,
   "skip_h1_title": false,
   "title_cell": "Table of Contents",
   "title_sidebar": "Contents",
   "toc_cell": false,
   "toc_position": {},
   "toc_section_display": true,
   "toc_window_display": false
  }
 },
 "nbformat": 4,
 "nbformat_minor": 2
}
